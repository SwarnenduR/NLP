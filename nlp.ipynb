{
 "cells": [
  {
   "cell_type": "code",
   "execution_count": 2,
   "id": "ca24267f-0274-482b-8191-a50d86d177b6",
   "metadata": {},
   "outputs": [
    {
     "name": "stdout",
     "output_type": "stream",
     "text": [
      "Collecting nltk\n",
      "  Downloading nltk-3.8.1-py3-none-any.whl (1.5 MB)\n",
      "\u001b[2K     \u001b[90m━━━━━━━━━━━━━━━━━━━━━━━━━━━━━━━━━━━━━━━━\u001b[0m \u001b[32m1.5/1.5 MB\u001b[0m \u001b[31m27.9 MB/s\u001b[0m eta \u001b[36m0:00:00\u001b[0ma \u001b[36m0:00:01\u001b[0m\n",
      "\u001b[?25hRequirement already satisfied: joblib in /opt/conda/lib/python3.10/site-packages (from nltk) (1.2.0)\n",
      "Requirement already satisfied: click in /opt/conda/lib/python3.10/site-packages (from nltk) (8.1.3)\n",
      "Requirement already satisfied: tqdm in /opt/conda/lib/python3.10/site-packages (from nltk) (4.64.1)\n",
      "Collecting regex>=2021.8.3\n",
      "  Downloading regex-2023.12.25-cp310-cp310-manylinux_2_17_x86_64.manylinux2014_x86_64.whl (773 kB)\n",
      "\u001b[2K     \u001b[90m━━━━━━━━━━━━━━━━━━━━━━━━━━━━━━━━━━━━━━\u001b[0m \u001b[32m774.0/774.0 kB\u001b[0m \u001b[31m49.9 MB/s\u001b[0m eta \u001b[36m0:00:00\u001b[0m\n",
      "\u001b[?25hInstalling collected packages: regex, nltk\n",
      "Successfully installed nltk-3.8.1 regex-2023.12.25\n"
     ]
    }
   ],
   "source": [
    "!pip install nltk"
   ]
  },
  {
   "cell_type": "code",
   "execution_count": 3,
   "id": "73afeb80-a608-484d-8859-d8d0a9a8369d",
   "metadata": {},
   "outputs": [
    {
     "name": "stderr",
     "output_type": "stream",
     "text": [
      "[nltk_data] Downloading package punkt to /home/jovyan/nltk_data...\n",
      "[nltk_data]   Unzipping tokenizers/punkt.zip.\n"
     ]
    },
    {
     "data": {
      "text/plain": [
       "True"
      ]
     },
     "execution_count": 3,
     "metadata": {},
     "output_type": "execute_result"
    }
   ],
   "source": [
    "import nltk\n",
    "nltk.download('punkt')"
   ]
  },
  {
   "cell_type": "code",
   "execution_count": 4,
   "id": "e3701485-b3a0-49d6-9618-43de08bd4301",
   "metadata": {},
   "outputs": [],
   "source": [
    "corpus = \"\"\"\n",
    "Shah Rukh Khan born 2 November 1965, also known by the initialism SRK, is an Indian actor and film producer who works in Hindi films.\n",
    "Referred to in the media as the \"Baadshah of Bollywood\" and \"King Khan\",he has appeared in more than 90 films, and earned numerous accolades,\n",
    "including 14 Filmfare Awards.\n",
    "\"\"\""
   ]
  },
  {
   "cell_type": "code",
   "execution_count": 5,
   "id": "228ac41d-debe-4e21-914c-ebee032cc099",
   "metadata": {},
   "outputs": [
    {
     "name": "stdout",
     "output_type": "stream",
     "text": [
      "\n",
      "Shah Rukh Khan born 2 November 1965, also known by the initialism SRK, is an Indian actor and film producer who works in Hindi films.\n",
      "Referred to in the media as the \"Baadshah of Bollywood\" and \"King Khan\",he has appeared in more than 90 films, and earned numerous accolades,\n",
      "including 14 Filmfare Awards.\n",
      "\n"
     ]
    }
   ],
   "source": [
    "print(corpus)"
   ]
  },
  {
   "cell_type": "code",
   "execution_count": 6,
   "id": "cb8f6a1e-5c34-4211-9ab1-061b8a418ac8",
   "metadata": {},
   "outputs": [],
   "source": [
    "from nltk.tokenize import sent_tokenize"
   ]
  },
  {
   "cell_type": "code",
   "execution_count": 7,
   "id": "2e3a3366-12a4-458c-a4af-e63ce83a619d",
   "metadata": {},
   "outputs": [
    {
     "data": {
      "text/plain": [
       "['\\nShah Rukh Khan born 2 November 1965, also known by the initialism SRK, is an Indian actor and film producer who works in Hindi films.',\n",
       " 'Referred to in the media as the \"Baadshah of Bollywood\" and \"King Khan\",he has appeared in more than 90 films, and earned numerous accolades,\\nincluding 14 Filmfare Awards.']"
      ]
     },
     "execution_count": 7,
     "metadata": {},
     "output_type": "execute_result"
    }
   ],
   "source": [
    "sent_tokenize(corpus)"
   ]
  },
  {
   "cell_type": "code",
   "execution_count": 8,
   "id": "992a1a8b-1d65-4ea3-a490-374352fb6f87",
   "metadata": {},
   "outputs": [],
   "source": [
    "from nltk.tokenize import word_tokenize"
   ]
  },
  {
   "cell_type": "code",
   "execution_count": 9,
   "id": "040907b0-7c2e-490c-8c72-efbc6d928756",
   "metadata": {},
   "outputs": [],
   "source": [
    "#word_tokenize(corpus)"
   ]
  },
  {
   "cell_type": "code",
   "execution_count": 10,
   "id": "a5c8f4f5-7c67-4fe9-9053-caca44480c19",
   "metadata": {},
   "outputs": [],
   "source": [
    "## Stemming"
   ]
  },
  {
   "cell_type": "code",
   "execution_count": 11,
   "id": "7ff49236-d101-40ef-98c0-0b98f9618b56",
   "metadata": {},
   "outputs": [],
   "source": [
    "words = word_tokenize(corpus)"
   ]
  },
  {
   "cell_type": "code",
   "execution_count": 12,
   "id": "c482a92a-4194-46bb-99d9-d85c3f4635c6",
   "metadata": {},
   "outputs": [],
   "source": [
    "## porterStemmer\n",
    "from nltk.stem import PorterStemmer"
   ]
  },
  {
   "cell_type": "code",
   "execution_count": 13,
   "id": "5bc44dcd-15c5-4e78-9260-a2db355ca9ac",
   "metadata": {},
   "outputs": [],
   "source": [
    "stemming = PorterStemmer()"
   ]
  },
  {
   "cell_type": "code",
   "execution_count": 14,
   "id": "abe1b280-4b6a-4c9c-b1f4-82b94fafa16b",
   "metadata": {},
   "outputs": [],
   "source": [
    "#for word in words:\n",
    "#    print(word + \"......>\" + stemming.stem(word))"
   ]
  },
  {
   "cell_type": "code",
   "execution_count": 15,
   "id": "3f4bf02f-ef8b-49bc-a244-9fa172aa611f",
   "metadata": {},
   "outputs": [],
   "source": [
    "## RegexpStemmer\n",
    "from nltk.stem import RegexpStemmer"
   ]
  },
  {
   "cell_type": "code",
   "execution_count": 16,
   "id": "3788e08a-8958-4232-b9cb-8aa4fad0ff69",
   "metadata": {},
   "outputs": [],
   "source": [
    "reg_stemmer = RegexpStemmer('ing$|s$|e$|able$', min=4)"
   ]
  },
  {
   "cell_type": "code",
   "execution_count": 17,
   "id": "32738d50-0753-4902-a077-ab11060dce9d",
   "metadata": {},
   "outputs": [
    {
     "data": {
      "text/plain": [
       "'eat'"
      ]
     },
     "execution_count": 17,
     "metadata": {},
     "output_type": "execute_result"
    }
   ],
   "source": [
    "reg_stemmer.stem('eating')"
   ]
  },
  {
   "cell_type": "code",
   "execution_count": 18,
   "id": "e5156c4f-ff5f-44f1-9853-8ba3a2814370",
   "metadata": {},
   "outputs": [
    {
     "data": {
      "text/plain": [
       "'ingeat'"
      ]
     },
     "execution_count": 18,
     "metadata": {},
     "output_type": "execute_result"
    }
   ],
   "source": [
    "reg_stemmer.stem('ingeating')"
   ]
  },
  {
   "cell_type": "code",
   "execution_count": 19,
   "id": "76266cd6-44b1-4370-993d-fa21d191893e",
   "metadata": {},
   "outputs": [],
   "source": [
    "## Snow ball Stemmer\n",
    "from nltk.stem import SnowballStemmer"
   ]
  },
  {
   "cell_type": "code",
   "execution_count": 20,
   "id": "f65cbaf1-a52c-49cf-98c8-3b9bd25ee7a1",
   "metadata": {},
   "outputs": [],
   "source": [
    "snow_stem = SnowballStemmer('english')"
   ]
  },
  {
   "cell_type": "code",
   "execution_count": 21,
   "id": "52e42550-cbef-440a-b59f-a2e85ae6bf8e",
   "metadata": {},
   "outputs": [
    {
     "data": {
      "text/plain": [
       "'ingeat'"
      ]
     },
     "execution_count": 21,
     "metadata": {},
     "output_type": "execute_result"
    }
   ],
   "source": [
    "snow_stem.stem('ingeating')"
   ]
  },
  {
   "cell_type": "code",
   "execution_count": 22,
   "id": "14ef8bed-fbde-4479-9585-0906d7169cfa",
   "metadata": {},
   "outputs": [
    {
     "data": {
      "text/plain": [
       "'fair'"
      ]
     },
     "execution_count": 22,
     "metadata": {},
     "output_type": "execute_result"
    }
   ],
   "source": [
    "snow_stem.stem('fairly')"
   ]
  },
  {
   "cell_type": "code",
   "execution_count": 23,
   "id": "0b129acf-7d7d-45bf-92a3-94a4d3977435",
   "metadata": {},
   "outputs": [
    {
     "data": {
      "text/plain": [
       "'fairly'"
      ]
     },
     "execution_count": 23,
     "metadata": {},
     "output_type": "execute_result"
    }
   ],
   "source": [
    "reg_stemmer.stem('fairly')"
   ]
  },
  {
   "cell_type": "code",
   "execution_count": 24,
   "id": "01684a68-7b6d-4f18-96dd-7368c0d61be9",
   "metadata": {},
   "outputs": [
    {
     "data": {
      "text/plain": [
       "'fairli'"
      ]
     },
     "execution_count": 24,
     "metadata": {},
     "output_type": "execute_result"
    }
   ],
   "source": [
    "stemming.stem('fairly')"
   ]
  },
  {
   "cell_type": "code",
   "execution_count": 25,
   "id": "320c4f1a-1330-43d2-a9d2-b1675c3ee476",
   "metadata": {},
   "outputs": [],
   "source": [
    "## Lematization"
   ]
  },
  {
   "cell_type": "code",
   "execution_count": 26,
   "id": "a05672dd-529c-469d-85c1-ec894db5b17c",
   "metadata": {},
   "outputs": [
    {
     "name": "stderr",
     "output_type": "stream",
     "text": [
      "[nltk_data] Downloading package wordnet to /home/jovyan/nltk_data...\n"
     ]
    },
    {
     "data": {
      "text/plain": [
       "True"
      ]
     },
     "execution_count": 26,
     "metadata": {},
     "output_type": "execute_result"
    }
   ],
   "source": [
    "import nltk\n",
    "nltk.download('wordnet')"
   ]
  },
  {
   "cell_type": "code",
   "execution_count": 27,
   "id": "15c7a695-e7a7-46a9-8535-0709f30ba835",
   "metadata": {},
   "outputs": [],
   "source": [
    "from nltk.stem import WordNetLemmatizer"
   ]
  },
  {
   "cell_type": "code",
   "execution_count": 28,
   "id": "0f3a30fe-95eb-435c-a1bc-d033b7af924d",
   "metadata": {},
   "outputs": [],
   "source": [
    "lemmatizer = WordNetLemmatizer()"
   ]
  },
  {
   "cell_type": "code",
   "execution_count": 29,
   "id": "2abab9ae-0e2d-40a8-a4d0-c3e795a00ad1",
   "metadata": {},
   "outputs": [
    {
     "data": {
      "text/plain": [
       "'go'"
      ]
     },
     "execution_count": 29,
     "metadata": {},
     "output_type": "execute_result"
    }
   ],
   "source": [
    "'''\n",
    "POS- Noun-n\n",
    "Verb-v\n",
    "adjective-a\n",
    "adverb-r\n",
    "\n",
    "'''\n",
    "\n",
    "lemmatizer.lemmatize('going', pos = 'v')"
   ]
  },
  {
   "cell_type": "code",
   "execution_count": 30,
   "id": "4d1d26fc-8e24-441f-9e9b-87d1f370773d",
   "metadata": {},
   "outputs": [
    {
     "data": {
      "text/plain": [
       "'going'"
      ]
     },
     "execution_count": 30,
     "metadata": {},
     "output_type": "execute_result"
    }
   ],
   "source": [
    "lemmatizer.lemmatize('going', pos = 'n')"
   ]
  },
  {
   "cell_type": "code",
   "execution_count": 31,
   "id": "17d0adde-8515-4937-9e7b-27840dc06d4d",
   "metadata": {},
   "outputs": [
    {
     "data": {
      "text/plain": [
       "'going'"
      ]
     },
     "execution_count": 31,
     "metadata": {},
     "output_type": "execute_result"
    }
   ],
   "source": [
    "lemmatizer.lemmatize('going', pos = 'a')"
   ]
  },
  {
   "cell_type": "code",
   "execution_count": 32,
   "id": "ed87c7e6-71af-4512-9193-008c8d578f1e",
   "metadata": {},
   "outputs": [
    {
     "data": {
      "text/plain": [
       "'going'"
      ]
     },
     "execution_count": 32,
     "metadata": {},
     "output_type": "execute_result"
    }
   ],
   "source": [
    "lemmatizer.lemmatize('going', pos = 'r')"
   ]
  },
  {
   "cell_type": "code",
   "execution_count": null,
   "id": "4ad72afd-420a-423f-8a24-c00e497d25c8",
   "metadata": {},
   "outputs": [],
   "source": []
  },
  {
   "cell_type": "code",
   "execution_count": 33,
   "id": "9b5354ca-56df-4435-ada1-210640cbfcb1",
   "metadata": {},
   "outputs": [],
   "source": [
    "##Stop words"
   ]
  },
  {
   "cell_type": "code",
   "execution_count": 34,
   "id": "912d4cc3-ccaf-448e-a437-014a0cdc5b56",
   "metadata": {},
   "outputs": [],
   "source": [
    "para = \"\"\"\n",
    "To the people of India, Dr APJ Abdul Kalam is no less than an inspiration. People had a great deal of admiration for him and addressed\n",
    "him as Sir APJ Abdul Kalam. This article consists of 3 types of APJ Abdul Kalam Speech In English For Students. The first one is a Long\n",
    "APJ Abdul Kalam Speech meant for students of class 9th and above. The second one is the usually spoken APJ Abdul Kalam Speech In School\n",
    "for students of class 5th and above while the third one is 10 lines About Abdul Kalam Speech for students of Class 1 and above for easier\n",
    "understanding.\n",
    "Long APJ Abdul Kalam Speech In English For Students\n",
    "Greeting everyone. Today, I am here to deliver a speech on APJ Abdul Kalam. Dr APJ Abdul Kalam’s full name was Avul Pakir Zainuldeben Abdul Kalam,\n",
    "very few people know him by his full name as he was mostly addressed as ‘Missile Man of India’ and ‘People’s President’. He was born into a very poor\n",
    "family in Rameswaram on October 15, 1931. Since childhood, he enjoyed flying, and was equally curious to know how birds fly in the air? He was very\n",
    "intelligent and enjoyed reading, but his family did not have sufficient income for his school fees, so to support his education, he would wake up early\n",
    "in the morning and ride a bicycle 3 kilometres from home to collect newspapers and sell them.\n",
    "\"\"\""
   ]
  },
  {
   "cell_type": "code",
   "execution_count": 35,
   "id": "a9f24eac-687b-4845-bc84-d5afc4180595",
   "metadata": {},
   "outputs": [],
   "source": [
    "from nltk.corpus import stopwords"
   ]
  },
  {
   "cell_type": "code",
   "execution_count": 36,
   "id": "6d8d17c3-96a5-423f-a7f3-615e6aa353a0",
   "metadata": {},
   "outputs": [
    {
     "name": "stderr",
     "output_type": "stream",
     "text": [
      "[nltk_data] Downloading package stopwords to /home/jovyan/nltk_data...\n",
      "[nltk_data]   Unzipping corpora/stopwords.zip.\n"
     ]
    },
    {
     "data": {
      "text/plain": [
       "True"
      ]
     },
     "execution_count": 36,
     "metadata": {},
     "output_type": "execute_result"
    }
   ],
   "source": [
    "nltk.download('stopwords')"
   ]
  },
  {
   "cell_type": "code",
   "execution_count": 37,
   "id": "d653904c-75e9-4345-bf73-04b400e5739d",
   "metadata": {},
   "outputs": [],
   "source": [
    "stops = stopwords.words('english')"
   ]
  },
  {
   "cell_type": "code",
   "execution_count": 38,
   "id": "c253f444-b1b3-49c8-b7da-dc13024b145c",
   "metadata": {},
   "outputs": [],
   "source": [
    "sentences = sent_tokenize(para)\n",
    "#words"
   ]
  },
  {
   "cell_type": "code",
   "execution_count": 39,
   "id": "1d9413d5-28f5-479f-8fc4-54228bdf71d1",
   "metadata": {},
   "outputs": [],
   "source": [
    "for i in range (len(sentences)):\n",
    "    words = word_tokenize(sentences[i])\n",
    "    words = [stemming.stem(word) for word in words if word not in set(stops)]\n",
    "    sentences[i] = ' '.join(words)"
   ]
  },
  {
   "cell_type": "code",
   "execution_count": 40,
   "id": "74783dd7-e18c-485d-9790-286f3e0a49d2",
   "metadata": {},
   "outputs": [
    {
     "data": {
      "text/plain": [
       "['to peopl india , dr apj abdul kalam less inspir .',\n",
       " 'peopl great deal admir address sir apj abdul kalam .',\n",
       " 'thi articl consist 3 type apj abdul kalam speech in english for student .',\n",
       " 'the first one long apj abdul kalam speech meant student class 9th .',\n",
       " 'the second one usual spoken apj abdul kalam speech in school student class 5th third one 10 line about abdul kalam speech student class 1 easier understand .',\n",
       " 'long apj abdul kalam speech in english for student greet everyon .',\n",
       " 'today , i deliv speech apj abdul kalam .',\n",
       " 'dr apj abdul kalam ’ full name avul pakir zainuldeben abdul kalam , peopl know full name mostli address ‘ missil man india ’ ‘ peopl ’ presid ’ .',\n",
       " 'he born poor famili rameswaram octob 15 , 1931 .',\n",
       " 'sinc childhood , enjoy fli , equal curiou know bird fli air ?',\n",
       " 'he intellig enjoy read , famili suffici incom school fee , support educ , would wake earli morn ride bicycl 3 kilometr home collect newspap sell .']"
      ]
     },
     "execution_count": 40,
     "metadata": {},
     "output_type": "execute_result"
    }
   ],
   "source": [
    "sentences"
   ]
  },
  {
   "cell_type": "code",
   "execution_count": 41,
   "id": "3e2b582c-f04f-47f3-a9a1-923a7963497d",
   "metadata": {},
   "outputs": [],
   "source": [
    "for i in range (len(sentences)):\n",
    "    words = word_tokenize(sentences[i])\n",
    "    words = [lemmatizer.lemmatize(word) for word in words if word not in set(stops)]\n",
    "    sentences[i] = ' '.join(words)"
   ]
  },
  {
   "cell_type": "code",
   "execution_count": 42,
   "id": "02f5a605-59ab-4673-a7aa-c736f454937f",
   "metadata": {},
   "outputs": [
    {
     "data": {
      "text/plain": [
       "['peopl india , dr apj abdul kalam le inspir .',\n",
       " 'peopl great deal admir address sir apj abdul kalam .',\n",
       " 'thi articl consist 3 type apj abdul kalam speech english student .',\n",
       " 'first one long apj abdul kalam speech meant student class 9th .',\n",
       " 'second one usual spoken apj abdul kalam speech school student class 5th third one 10 line abdul kalam speech student class 1 easier understand .',\n",
       " 'long apj abdul kalam speech english student greet everyon .',\n",
       " 'today , deliv speech apj abdul kalam .',\n",
       " 'dr apj abdul kalam ’ full name avul pakir zainuldeben abdul kalam , peopl know full name mostli address ‘ missil man india ’ ‘ peopl ’ presid ’ .',\n",
       " 'born poor famili rameswaram octob 15 , 1931 .',\n",
       " 'sinc childhood , enjoy fli , equal curiou know bird fli air ?',\n",
       " 'intellig enjoy read , famili suffici incom school fee , support educ , would wake earli morn ride bicycl 3 kilometr home collect newspap sell .']"
      ]
     },
     "execution_count": 42,
     "metadata": {},
     "output_type": "execute_result"
    }
   ],
   "source": [
    "sentences"
   ]
  },
  {
   "cell_type": "code",
   "execution_count": 43,
   "id": "c31994ba-f9dc-492e-9fb3-f1cab51a628e",
   "metadata": {},
   "outputs": [],
   "source": [
    "paragraph = \"\"\"\n",
    "I have three visions for India. In 3000 years of our history, people from allover the world have come and invaded us, captured our lands,\n",
    "conquered our minds. From Alexander onwards. The Greeks, the Portuguese, the British, the French, the Dutch, all of them came and looted us,\n",
    "took over what was ours. Yet we have not done this to any other nation. We have not conquered anyone. We have not grabbed their land, their culture,\n",
    "their history tried to enforce our way of life on them. Why? Because we respect the freedom of others. That is why my first vision is that of FREEDOM.\n",
    "I believe that India got its first vision of this in 1857, when we started the war of independence. It is this freedom that we must protect and nurture\n",
    "and built on. If we are not free, no one will respect us. My second vision for India is DEVELOPMENT. For fifty years we have been a developing nation.\n",
    "It is time we see ourselves as a developed nation. We are among top 5 nations of the world in terms of GDP. We have 10 percent growth rate in most areas.\n",
    "Our poverty levels are falling, our achievements are being globally recognized today. Yet we lack the self-confidence to see ourselves as a developed nation,\n",
    "self reliant and self assured. Isn't this right? I have a third vision. The India must stand up to the world. Because I believe that unless India stands up\n",
    "to the world, no one will respect us. Only strength respects strength. We must be strong not only as a military power but also as an economic power.\n",
    "Both must go hand-in-hand. My good fortune was to have work with three great minds. Dr Vikram Sarabhai of the Dept. of space, Professor Satish Dhawan,\n",
    "who succeeded him, and Dr.Brahm Prakash, father of nuclear material. I was lucky to have worked with all three of them closely and consider this the great\n",
    "opportunity of my life. I see four milestones in my career: ONE: Twenty years I spent in ISRO. I was given the opportunity to be the project director for\n",
    "India's first satellite launch vehicle, SLV3. The one that launched Rohini. These years played a very important role in my life of Scientist. TWO: After my\n",
    "ISRO years, I joined DRDO and got a chance to be the part of India's guided missile program. It was my second bliss when Agni met its mission requirements\n",
    "in 1994. THREE: The Dept. of Atomic Energy and DRDO had this tremendous partnership in the recent nuclear tests, on May 11 and 13. This was the third bliss.\n",
    "The joy of participating with my team in these nuclear tests and proving to the world that India can make it.That we are no longer a developing nation but\n",
    "one of them. It made me feel very proud as an Indian. The fact that we have now developed for Agni a re-entry structure, for which we have developed this\n",
    "new material. A Very light material called carbon-carbon. FOUR: One day an orthopaedic surgeon from Nizam institute of Medical Sciences visited my laboratory.\n",
    "He lifted the material and found it so light that he took me to his hospital and showed me his patients. There were these little girls and boys with heavy\n",
    "metallic calipers weighing over three Kgs. each, dragging their feet around. He said to me: Please remove the pain of my patients. In three weeks, we made\n",
    "these Floor reaction Orthosis 300 gram calipers and took them to the orthopaedic center. The children didn't believe their eyes. From dragging around a\n",
    "three kg. load on their legs, they could now move around! Their parents had tears in their eyes. That was my forth bliss! Why is the media here so negative?\n",
    "Why are we in India so embarrassed to recognize our own strengths, our achievements? We are such a great nation. We have so many amazing success stories but\n",
    "we refuse to acknowledge them. Why? We are the second largest producer of wheat in the world. We are the second largest producers in rice. We are the first\n",
    "in milk production. We are number one in Remote sensing satellites. Look at Dr. Sudarshan, he has transferred the tribal village into a self-sustaining,\n",
    "self-driving unit. There are millions of such achievements but our media is only obsessed with the bad news and failures and disasters. I was in Tel Aviv\n",
    "once and I was reading the Israeli newspaper. It was the day after a lot of attacks and bombardments and deaths had taken place. The Hamas had struck.\n",
    "But the front page of the newspaper had the picture of a Jewish gentleman who in five years had transformed his desert land into an orchid and a granary.\n",
    "It was this inspiring picture that everyone woke up to. The gory details of killings, bombardments, deaths, were inside in the newspaper, buried among\n",
    "other news. In India we only read about death, sickness, terrorism, crime. Why are we so negative? Another question: Why are we, as a nation so obsessed\n",
    "with foreign things? we want foreign TVs, we want foreign shirts. We want foreign technology. Why this obsession with everything imported? Do we not\n",
    "realize that self-respect comes with self-reliance? I was in Hyderabad giving this lecture, when a 14 year oldgirl asked me for my autograph.\n",
    "I asked her what her goal in life is: She replied: \"I want to live in a developed India.\" For her, you, and I will have to build this developed India.\n",
    "\"\"\""
   ]
  },
  {
   "cell_type": "code",
   "execution_count": null,
   "id": "187faabe-5669-4640-921b-b2019d896a61",
   "metadata": {},
   "outputs": [],
   "source": []
  },
  {
   "cell_type": "code",
   "execution_count": 44,
   "id": "620f5296-b674-4ec9-a3af-24bfbfbca3d0",
   "metadata": {},
   "outputs": [
    {
     "name": "stderr",
     "output_type": "stream",
     "text": [
      "[nltk_data] Downloading package averaged_perceptron_tagger to\n",
      "[nltk_data]     /home/jovyan/nltk_data...\n",
      "[nltk_data]   Unzipping taggers/averaged_perceptron_tagger.zip.\n"
     ]
    },
    {
     "data": {
      "text/plain": [
       "True"
      ]
     },
     "execution_count": 44,
     "metadata": {},
     "output_type": "execute_result"
    }
   ],
   "source": [
    "nltk.download('averaged_perceptron_tagger')"
   ]
  },
  {
   "cell_type": "code",
   "execution_count": 45,
   "id": "b5ca8d13-e307-461e-80c8-6455a565e0cf",
   "metadata": {},
   "outputs": [],
   "source": [
    "sentences = sent_tokenize(paragraph)"
   ]
  },
  {
   "cell_type": "code",
   "execution_count": 46,
   "id": "360d70f4-a676-4138-bd2d-ca15029cf08d",
   "metadata": {},
   "outputs": [
    {
     "data": {
      "text/plain": [
       "'\\nfor i in range (len(sentences)):\\n    words = word_tokenize(sentences[i])\\n    words = [word for word in words if word not in set(stops)]\\n    pos_tag = nltk.pos_tag(words)\\n    print(pos_tag)\\n'"
      ]
     },
     "execution_count": 46,
     "metadata": {},
     "output_type": "execute_result"
    }
   ],
   "source": [
    "## Find the POS Parts of speech tag\n",
    "'''\n",
    "for i in range (len(sentences)):\n",
    "    words = word_tokenize(sentences[i])\n",
    "    words = [word for word in words if word not in set(stops)]\n",
    "    pos_tag = nltk.pos_tag(words)\n",
    "    print(pos_tag)\n",
    "'''"
   ]
  },
  {
   "cell_type": "code",
   "execution_count": 47,
   "id": "03aeff56-42cf-4915-9e20-d53bb4d45f76",
   "metadata": {},
   "outputs": [
    {
     "name": "stdout",
     "output_type": "stream",
     "text": [
      "[('Taj', 'NNP'), ('Mahal', 'NNP'), ('is', 'VBZ'), ('a', 'DT'), ('beautiful', 'JJ'), ('monument', 'NN')]\n"
     ]
    }
   ],
   "source": [
    "print(nltk.pos_tag(\"Taj Mahal is a beautiful monument\".split()))"
   ]
  },
  {
   "cell_type": "code",
   "execution_count": null,
   "id": "c6b38826-63a6-497d-867a-61d617bd9c4d",
   "metadata": {},
   "outputs": [],
   "source": []
  },
  {
   "cell_type": "markdown",
   "id": "9c5454bb-f0b6-4d7e-aa96-2a35a2e0505c",
   "metadata": {},
   "source": [
    "## Named Entity Recognition"
   ]
  },
  {
   "cell_type": "code",
   "execution_count": 48,
   "id": "11249b12-546e-4e63-a45d-0cd09b5fc5b0",
   "metadata": {},
   "outputs": [],
   "source": [
    "import nltk"
   ]
  },
  {
   "cell_type": "code",
   "execution_count": 49,
   "id": "6d15b44e-0823-4acb-997d-f4659405eb3a",
   "metadata": {},
   "outputs": [],
   "source": [
    "sentence = \"The Eiffel Tower is built from 1887 to 1889 by French engineer Gustava Eiffel whose company specilized in building metal frameworks and structures\""
   ]
  },
  {
   "cell_type": "code",
   "execution_count": 50,
   "id": "56db095f-3793-43a4-871a-1de60445b9c6",
   "metadata": {},
   "outputs": [],
   "source": [
    "words = nltk.word_tokenize(sentence)"
   ]
  },
  {
   "cell_type": "code",
   "execution_count": 51,
   "id": "a5bbd106-76a2-4431-a59c-7d454f19c050",
   "metadata": {},
   "outputs": [
    {
     "data": {
      "text/plain": [
       "['The',\n",
       " 'Eiffel',\n",
       " 'Tower',\n",
       " 'is',\n",
       " 'built',\n",
       " 'from',\n",
       " '1887',\n",
       " 'to',\n",
       " '1889',\n",
       " 'by',\n",
       " 'French',\n",
       " 'engineer',\n",
       " 'Gustava',\n",
       " 'Eiffel',\n",
       " 'whose',\n",
       " 'company',\n",
       " 'specilized',\n",
       " 'in',\n",
       " 'building',\n",
       " 'metal',\n",
       " 'frameworks',\n",
       " 'and',\n",
       " 'structures']"
      ]
     },
     "execution_count": 51,
     "metadata": {},
     "output_type": "execute_result"
    }
   ],
   "source": [
    "words"
   ]
  },
  {
   "cell_type": "code",
   "execution_count": 53,
   "id": "55d15047-21ef-4e04-a97d-0483e56ba749",
   "metadata": {},
   "outputs": [
    {
     "data": {
      "text/plain": [
       "[('The', 'DT'),\n",
       " ('Eiffel', 'NNP'),\n",
       " ('Tower', 'NNP'),\n",
       " ('is', 'VBZ'),\n",
       " ('built', 'VBN'),\n",
       " ('from', 'IN'),\n",
       " ('1887', 'CD'),\n",
       " ('to', 'TO'),\n",
       " ('1889', 'CD'),\n",
       " ('by', 'IN'),\n",
       " ('French', 'JJ'),\n",
       " ('engineer', 'NN'),\n",
       " ('Gustava', 'NNP'),\n",
       " ('Eiffel', 'NNP'),\n",
       " ('whose', 'WP$'),\n",
       " ('company', 'NN'),\n",
       " ('specilized', 'VBN'),\n",
       " ('in', 'IN'),\n",
       " ('building', 'NN'),\n",
       " ('metal', 'NN'),\n",
       " ('frameworks', 'NNS'),\n",
       " ('and', 'CC'),\n",
       " ('structures', 'NNS')]"
      ]
     },
     "execution_count": 53,
     "metadata": {},
     "output_type": "execute_result"
    }
   ],
   "source": [
    "tag_elements = nltk.pos_tag(words)\n",
    "tag_elements"
   ]
  },
  {
   "cell_type": "code",
   "execution_count": 57,
   "id": "eac91366-632e-459e-824b-6d0371cc61a8",
   "metadata": {},
   "outputs": [
    {
     "name": "stderr",
     "output_type": "stream",
     "text": [
      "[nltk_data] Downloading package maxent_ne_chunker to\n",
      "[nltk_data]     /home/jovyan/nltk_data...\n",
      "[nltk_data]   Package maxent_ne_chunker is already up-to-date!\n",
      "[nltk_data] Downloading package words to /home/jovyan/nltk_data...\n",
      "[nltk_data]   Unzipping corpora/words.zip.\n"
     ]
    },
    {
     "data": {
      "text/plain": [
       "True"
      ]
     },
     "execution_count": 57,
     "metadata": {},
     "output_type": "execute_result"
    }
   ],
   "source": [
    "nltk.download('maxent_ne_chunker')\n",
    "nltk.download('words')"
   ]
  },
  {
   "cell_type": "code",
   "execution_count": 60,
   "id": "67930fca-ca4d-4ba0-b60e-d2030f19f359",
   "metadata": {},
   "outputs": [
    {
     "ename": "ModuleNotFoundError",
     "evalue": "No module named 'svgling'",
     "output_type": "error",
     "traceback": [
      "\u001b[0;31m---------------------------------------------------------------------------\u001b[0m",
      "\u001b[0;31mModuleNotFoundError\u001b[0m                       Traceback (most recent call last)",
      "File \u001b[0;32m/opt/conda/lib/python3.10/site-packages/IPython/core/formatters.py:342\u001b[0m, in \u001b[0;36mBaseFormatter.__call__\u001b[0;34m(self, obj)\u001b[0m\n\u001b[1;32m    340\u001b[0m     method \u001b[38;5;241m=\u001b[39m get_real_method(obj, \u001b[38;5;28mself\u001b[39m\u001b[38;5;241m.\u001b[39mprint_method)\n\u001b[1;32m    341\u001b[0m     \u001b[38;5;28;01mif\u001b[39;00m method \u001b[38;5;129;01mis\u001b[39;00m \u001b[38;5;129;01mnot\u001b[39;00m \u001b[38;5;28;01mNone\u001b[39;00m:\n\u001b[0;32m--> 342\u001b[0m         \u001b[38;5;28;01mreturn\u001b[39;00m \u001b[43mmethod\u001b[49m\u001b[43m(\u001b[49m\u001b[43m)\u001b[49m\n\u001b[1;32m    343\u001b[0m     \u001b[38;5;28;01mreturn\u001b[39;00m \u001b[38;5;28;01mNone\u001b[39;00m\n\u001b[1;32m    344\u001b[0m \u001b[38;5;28;01melse\u001b[39;00m:\n",
      "File \u001b[0;32m/opt/conda/lib/python3.10/site-packages/nltk/tree/tree.py:782\u001b[0m, in \u001b[0;36mTree._repr_svg_\u001b[0;34m(self)\u001b[0m\n\u001b[1;32m    781\u001b[0m \u001b[38;5;28;01mdef\u001b[39;00m \u001b[38;5;21m_repr_svg_\u001b[39m(\u001b[38;5;28mself\u001b[39m):\n\u001b[0;32m--> 782\u001b[0m     \u001b[38;5;28;01mfrom\u001b[39;00m \u001b[38;5;21;01msvgling\u001b[39;00m \u001b[38;5;28;01mimport\u001b[39;00m draw_tree\n\u001b[1;32m    784\u001b[0m     \u001b[38;5;28;01mreturn\u001b[39;00m draw_tree(\u001b[38;5;28mself\u001b[39m)\u001b[38;5;241m.\u001b[39m_repr_svg_()\n",
      "\u001b[0;31mModuleNotFoundError\u001b[0m: No module named 'svgling'"
     ]
    },
    {
     "data": {
      "text/plain": [
       "Tree('S', [('The', 'DT'), Tree('ORGANIZATION', [('Eiffel', 'NNP'), ('Tower', 'NNP')]), ('is', 'VBZ'), ('built', 'VBN'), ('from', 'IN'), ('1887', 'CD'), ('to', 'TO'), ('1889', 'CD'), ('by', 'IN'), Tree('GPE', [('French', 'JJ')]), ('engineer', 'NN'), Tree('PERSON', [('Gustava', 'NNP'), ('Eiffel', 'NNP')]), ('whose', 'WP$'), ('company', 'NN'), ('specilized', 'VBN'), ('in', 'IN'), ('building', 'NN'), ('metal', 'NN'), ('frameworks', 'NNS'), ('and', 'CC'), ('structures', 'NNS')])"
      ]
     },
     "execution_count": 60,
     "metadata": {},
     "output_type": "execute_result"
    }
   ],
   "source": [
    "nltk.ne_chunk(tag_elements)"
   ]
  },
  {
   "cell_type": "code",
   "execution_count": null,
   "id": "f2a73784-b891-48a5-bde7-47ce476be94c",
   "metadata": {},
   "outputs": [],
   "source": []
  }
 ],
 "metadata": {
  "kernelspec": {
   "display_name": "Python 3 (ipykernel)",
   "language": "python",
   "name": "python3"
  },
  "language_info": {
   "codemirror_mode": {
    "name": "ipython",
    "version": 3
   },
   "file_extension": ".py",
   "mimetype": "text/x-python",
   "name": "python",
   "nbconvert_exporter": "python",
   "pygments_lexer": "ipython3",
   "version": "3.10.8"
  }
 },
 "nbformat": 4,
 "nbformat_minor": 5
}
